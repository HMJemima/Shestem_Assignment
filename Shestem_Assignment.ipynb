{
  "nbformat": 4,
  "nbformat_minor": 0,
  "metadata": {
    "colab": {
      "provenance": [],
      "authorship_tag": "ABX9TyNAAENxSP7mwOya7ftYXSv2",
      "include_colab_link": true
    },
    "kernelspec": {
      "name": "python3",
      "display_name": "Python 3"
    },
    "language_info": {
      "name": "python"
    }
  },
  "cells": [
    {
      "cell_type": "markdown",
      "metadata": {
        "id": "view-in-github",
        "colab_type": "text"
      },
      "source": [
        "<a href=\"https://colab.research.google.com/github/HMJemima/Shestem_Assignment/blob/main/Shestem_Assignment.ipynb\" target=\"_parent\"><img src=\"https://colab.research.google.com/assets/colab-badge.svg\" alt=\"Open In Colab\"/></a>"
      ]
    },
    {
      "cell_type": "code",
      "source": [
        "import sys, os, io, math, warnings\n",
        "warnings.filterwarnings(\"ignore\")\n",
        "\n",
        "import numpy as np\n",
        "import pandas as pd\n",
        "\n",
        "import matplotlib.pyplot as plt\n",
        "import seaborn as sns\n",
        "\n",
        "from datetime import datetime\n",
        "\n",
        "from sklearn.model_selection import train_test_split\n",
        "from sklearn.preprocessing import StandardScaler, OneHotEncoder\n",
        "from sklearn.compose import ColumnTransformer\n",
        "from sklearn.pipeline import Pipeline\n",
        "from sklearn.metrics import mean_squared_error, r2_score\n",
        "from sklearn.linear_model import LinearRegression\n",
        "from sklearn.ensemble import RandomForestRegressor\n",
        "from sklearn.inspection import permutation_importance\n",
        "\n"
      ],
      "metadata": {
        "id": "zoTri6CXxaGp"
      },
      "execution_count": null,
      "outputs": []
    },
    {
      "cell_type": "markdown",
      "source": [
        "##Section A — Data Import & Preprocessing"
      ],
      "metadata": {
        "id": "ed887yLaKXdl"
      }
    },
    {
      "cell_type": "code",
      "execution_count": null,
      "metadata": {
        "id": "-nn_OeyxwYqc"
      },
      "outputs": [],
      "source": [
        "\n",
        "df=pd.read_csv('https://docs.google.com/spreadsheets/d/e/2PACX-1vT4HNdiHbkiEIFdKvYp_t0D8ychl9TjCrLyyReF1tb9hnduT204-N17fNVVzZFdQ3eQGVhf6XV2sZY2/pub?gid=1515097421&single=true&output=csv')\n"
      ]
    },
    {
      "cell_type": "code",
      "source": [
        "#a1\n",
        "display(df.head(10))"
      ],
      "metadata": {
        "colab": {
          "base_uri": "https://localhost:8080/",
          "height": 363
        },
        "id": "2_4VwiDQxFxo",
        "outputId": "6a0bc3c8-c4c5-406d-addb-967cbd3c75a6"
      },
      "execution_count": null,
      "outputs": [
        {
          "output_type": "display_data",
          "data": {
            "text/plain": [
              "              DateTime  Junction  Vehicles           ID\n",
              "0  2015-11-01 00:00:00         1        15  20151101001\n",
              "1  2015-11-01 01:00:00         1        13  20151101011\n",
              "2  2015-11-01 02:00:00         1        10  20151101021\n",
              "3  2015-11-01 03:00:00         1         7  20151101031\n",
              "4  2015-11-01 04:00:00         1         9  20151101041\n",
              "5  2015-11-01 05:00:00         1         6  20151101051\n",
              "6  2015-11-01 06:00:00         1         9  20151101061\n",
              "7  2015-11-01 07:00:00         1         8  20151101071\n",
              "8  2015-11-01 08:00:00         1        11  20151101081\n",
              "9  2015-11-01 09:00:00         1        12  20151101091"
            ],
            "text/html": [
              "\n",
              "  <div id=\"df-2d074080-1407-495f-9c31-f9ba07b1cee6\" class=\"colab-df-container\">\n",
              "    <div>\n",
              "<style scoped>\n",
              "    .dataframe tbody tr th:only-of-type {\n",
              "        vertical-align: middle;\n",
              "    }\n",
              "\n",
              "    .dataframe tbody tr th {\n",
              "        vertical-align: top;\n",
              "    }\n",
              "\n",
              "    .dataframe thead th {\n",
              "        text-align: right;\n",
              "    }\n",
              "</style>\n",
              "<table border=\"1\" class=\"dataframe\">\n",
              "  <thead>\n",
              "    <tr style=\"text-align: right;\">\n",
              "      <th></th>\n",
              "      <th>DateTime</th>\n",
              "      <th>Junction</th>\n",
              "      <th>Vehicles</th>\n",
              "      <th>ID</th>\n",
              "    </tr>\n",
              "  </thead>\n",
              "  <tbody>\n",
              "    <tr>\n",
              "      <th>0</th>\n",
              "      <td>2015-11-01 00:00:00</td>\n",
              "      <td>1</td>\n",
              "      <td>15</td>\n",
              "      <td>20151101001</td>\n",
              "    </tr>\n",
              "    <tr>\n",
              "      <th>1</th>\n",
              "      <td>2015-11-01 01:00:00</td>\n",
              "      <td>1</td>\n",
              "      <td>13</td>\n",
              "      <td>20151101011</td>\n",
              "    </tr>\n",
              "    <tr>\n",
              "      <th>2</th>\n",
              "      <td>2015-11-01 02:00:00</td>\n",
              "      <td>1</td>\n",
              "      <td>10</td>\n",
              "      <td>20151101021</td>\n",
              "    </tr>\n",
              "    <tr>\n",
              "      <th>3</th>\n",
              "      <td>2015-11-01 03:00:00</td>\n",
              "      <td>1</td>\n",
              "      <td>7</td>\n",
              "      <td>20151101031</td>\n",
              "    </tr>\n",
              "    <tr>\n",
              "      <th>4</th>\n",
              "      <td>2015-11-01 04:00:00</td>\n",
              "      <td>1</td>\n",
              "      <td>9</td>\n",
              "      <td>20151101041</td>\n",
              "    </tr>\n",
              "    <tr>\n",
              "      <th>5</th>\n",
              "      <td>2015-11-01 05:00:00</td>\n",
              "      <td>1</td>\n",
              "      <td>6</td>\n",
              "      <td>20151101051</td>\n",
              "    </tr>\n",
              "    <tr>\n",
              "      <th>6</th>\n",
              "      <td>2015-11-01 06:00:00</td>\n",
              "      <td>1</td>\n",
              "      <td>9</td>\n",
              "      <td>20151101061</td>\n",
              "    </tr>\n",
              "    <tr>\n",
              "      <th>7</th>\n",
              "      <td>2015-11-01 07:00:00</td>\n",
              "      <td>1</td>\n",
              "      <td>8</td>\n",
              "      <td>20151101071</td>\n",
              "    </tr>\n",
              "    <tr>\n",
              "      <th>8</th>\n",
              "      <td>2015-11-01 08:00:00</td>\n",
              "      <td>1</td>\n",
              "      <td>11</td>\n",
              "      <td>20151101081</td>\n",
              "    </tr>\n",
              "    <tr>\n",
              "      <th>9</th>\n",
              "      <td>2015-11-01 09:00:00</td>\n",
              "      <td>1</td>\n",
              "      <td>12</td>\n",
              "      <td>20151101091</td>\n",
              "    </tr>\n",
              "  </tbody>\n",
              "</table>\n",
              "</div>\n",
              "    <div class=\"colab-df-buttons\">\n",
              "\n",
              "  <div class=\"colab-df-container\">\n",
              "    <button class=\"colab-df-convert\" onclick=\"convertToInteractive('df-2d074080-1407-495f-9c31-f9ba07b1cee6')\"\n",
              "            title=\"Convert this dataframe to an interactive table.\"\n",
              "            style=\"display:none;\">\n",
              "\n",
              "  <svg xmlns=\"http://www.w3.org/2000/svg\" height=\"24px\" viewBox=\"0 -960 960 960\">\n",
              "    <path d=\"M120-120v-720h720v720H120Zm60-500h600v-160H180v160Zm220 220h160v-160H400v160Zm0 220h160v-160H400v160ZM180-400h160v-160H180v160Zm440 0h160v-160H620v160ZM180-180h160v-160H180v160Zm440 0h160v-160H620v160Z\"/>\n",
              "  </svg>\n",
              "    </button>\n",
              "\n",
              "  <style>\n",
              "    .colab-df-container {\n",
              "      display:flex;\n",
              "      gap: 12px;\n",
              "    }\n",
              "\n",
              "    .colab-df-convert {\n",
              "      background-color: #E8F0FE;\n",
              "      border: none;\n",
              "      border-radius: 50%;\n",
              "      cursor: pointer;\n",
              "      display: none;\n",
              "      fill: #1967D2;\n",
              "      height: 32px;\n",
              "      padding: 0 0 0 0;\n",
              "      width: 32px;\n",
              "    }\n",
              "\n",
              "    .colab-df-convert:hover {\n",
              "      background-color: #E2EBFA;\n",
              "      box-shadow: 0px 1px 2px rgba(60, 64, 67, 0.3), 0px 1px 3px 1px rgba(60, 64, 67, 0.15);\n",
              "      fill: #174EA6;\n",
              "    }\n",
              "\n",
              "    .colab-df-buttons div {\n",
              "      margin-bottom: 4px;\n",
              "    }\n",
              "\n",
              "    [theme=dark] .colab-df-convert {\n",
              "      background-color: #3B4455;\n",
              "      fill: #D2E3FC;\n",
              "    }\n",
              "\n",
              "    [theme=dark] .colab-df-convert:hover {\n",
              "      background-color: #434B5C;\n",
              "      box-shadow: 0px 1px 3px 1px rgba(0, 0, 0, 0.15);\n",
              "      filter: drop-shadow(0px 1px 2px rgba(0, 0, 0, 0.3));\n",
              "      fill: #FFFFFF;\n",
              "    }\n",
              "  </style>\n",
              "\n",
              "    <script>\n",
              "      const buttonEl =\n",
              "        document.querySelector('#df-2d074080-1407-495f-9c31-f9ba07b1cee6 button.colab-df-convert');\n",
              "      buttonEl.style.display =\n",
              "        google.colab.kernel.accessAllowed ? 'block' : 'none';\n",
              "\n",
              "      async function convertToInteractive(key) {\n",
              "        const element = document.querySelector('#df-2d074080-1407-495f-9c31-f9ba07b1cee6');\n",
              "        const dataTable =\n",
              "          await google.colab.kernel.invokeFunction('convertToInteractive',\n",
              "                                                    [key], {});\n",
              "        if (!dataTable) return;\n",
              "\n",
              "        const docLinkHtml = 'Like what you see? Visit the ' +\n",
              "          '<a target=\"_blank\" href=https://colab.research.google.com/notebooks/data_table.ipynb>data table notebook</a>'\n",
              "          + ' to learn more about interactive tables.';\n",
              "        element.innerHTML = '';\n",
              "        dataTable['output_type'] = 'display_data';\n",
              "        await google.colab.output.renderOutput(dataTable, element);\n",
              "        const docLink = document.createElement('div');\n",
              "        docLink.innerHTML = docLinkHtml;\n",
              "        element.appendChild(docLink);\n",
              "      }\n",
              "    </script>\n",
              "  </div>\n",
              "\n",
              "\n",
              "    <div id=\"df-60ee6b85-8e0c-4f35-83e6-4af33ba1ad1a\">\n",
              "      <button class=\"colab-df-quickchart\" onclick=\"quickchart('df-60ee6b85-8e0c-4f35-83e6-4af33ba1ad1a')\"\n",
              "                title=\"Suggest charts\"\n",
              "                style=\"display:none;\">\n",
              "\n",
              "<svg xmlns=\"http://www.w3.org/2000/svg\" height=\"24px\"viewBox=\"0 0 24 24\"\n",
              "     width=\"24px\">\n",
              "    <g>\n",
              "        <path d=\"M19 3H5c-1.1 0-2 .9-2 2v14c0 1.1.9 2 2 2h14c1.1 0 2-.9 2-2V5c0-1.1-.9-2-2-2zM9 17H7v-7h2v7zm4 0h-2V7h2v10zm4 0h-2v-4h2v4z\"/>\n",
              "    </g>\n",
              "</svg>\n",
              "      </button>\n",
              "\n",
              "<style>\n",
              "  .colab-df-quickchart {\n",
              "      --bg-color: #E8F0FE;\n",
              "      --fill-color: #1967D2;\n",
              "      --hover-bg-color: #E2EBFA;\n",
              "      --hover-fill-color: #174EA6;\n",
              "      --disabled-fill-color: #AAA;\n",
              "      --disabled-bg-color: #DDD;\n",
              "  }\n",
              "\n",
              "  [theme=dark] .colab-df-quickchart {\n",
              "      --bg-color: #3B4455;\n",
              "      --fill-color: #D2E3FC;\n",
              "      --hover-bg-color: #434B5C;\n",
              "      --hover-fill-color: #FFFFFF;\n",
              "      --disabled-bg-color: #3B4455;\n",
              "      --disabled-fill-color: #666;\n",
              "  }\n",
              "\n",
              "  .colab-df-quickchart {\n",
              "    background-color: var(--bg-color);\n",
              "    border: none;\n",
              "    border-radius: 50%;\n",
              "    cursor: pointer;\n",
              "    display: none;\n",
              "    fill: var(--fill-color);\n",
              "    height: 32px;\n",
              "    padding: 0;\n",
              "    width: 32px;\n",
              "  }\n",
              "\n",
              "  .colab-df-quickchart:hover {\n",
              "    background-color: var(--hover-bg-color);\n",
              "    box-shadow: 0 1px 2px rgba(60, 64, 67, 0.3), 0 1px 3px 1px rgba(60, 64, 67, 0.15);\n",
              "    fill: var(--button-hover-fill-color);\n",
              "  }\n",
              "\n",
              "  .colab-df-quickchart-complete:disabled,\n",
              "  .colab-df-quickchart-complete:disabled:hover {\n",
              "    background-color: var(--disabled-bg-color);\n",
              "    fill: var(--disabled-fill-color);\n",
              "    box-shadow: none;\n",
              "  }\n",
              "\n",
              "  .colab-df-spinner {\n",
              "    border: 2px solid var(--fill-color);\n",
              "    border-color: transparent;\n",
              "    border-bottom-color: var(--fill-color);\n",
              "    animation:\n",
              "      spin 1s steps(1) infinite;\n",
              "  }\n",
              "\n",
              "  @keyframes spin {\n",
              "    0% {\n",
              "      border-color: transparent;\n",
              "      border-bottom-color: var(--fill-color);\n",
              "      border-left-color: var(--fill-color);\n",
              "    }\n",
              "    20% {\n",
              "      border-color: transparent;\n",
              "      border-left-color: var(--fill-color);\n",
              "      border-top-color: var(--fill-color);\n",
              "    }\n",
              "    30% {\n",
              "      border-color: transparent;\n",
              "      border-left-color: var(--fill-color);\n",
              "      border-top-color: var(--fill-color);\n",
              "      border-right-color: var(--fill-color);\n",
              "    }\n",
              "    40% {\n",
              "      border-color: transparent;\n",
              "      border-right-color: var(--fill-color);\n",
              "      border-top-color: var(--fill-color);\n",
              "    }\n",
              "    60% {\n",
              "      border-color: transparent;\n",
              "      border-right-color: var(--fill-color);\n",
              "    }\n",
              "    80% {\n",
              "      border-color: transparent;\n",
              "      border-right-color: var(--fill-color);\n",
              "      border-bottom-color: var(--fill-color);\n",
              "    }\n",
              "    90% {\n",
              "      border-color: transparent;\n",
              "      border-bottom-color: var(--fill-color);\n",
              "    }\n",
              "  }\n",
              "</style>\n",
              "\n",
              "      <script>\n",
              "        async function quickchart(key) {\n",
              "          const quickchartButtonEl =\n",
              "            document.querySelector('#' + key + ' button');\n",
              "          quickchartButtonEl.disabled = true;  // To prevent multiple clicks.\n",
              "          quickchartButtonEl.classList.add('colab-df-spinner');\n",
              "          try {\n",
              "            const charts = await google.colab.kernel.invokeFunction(\n",
              "                'suggestCharts', [key], {});\n",
              "          } catch (error) {\n",
              "            console.error('Error during call to suggestCharts:', error);\n",
              "          }\n",
              "          quickchartButtonEl.classList.remove('colab-df-spinner');\n",
              "          quickchartButtonEl.classList.add('colab-df-quickchart-complete');\n",
              "        }\n",
              "        (() => {\n",
              "          let quickchartButtonEl =\n",
              "            document.querySelector('#df-60ee6b85-8e0c-4f35-83e6-4af33ba1ad1a button');\n",
              "          quickchartButtonEl.style.display =\n",
              "            google.colab.kernel.accessAllowed ? 'block' : 'none';\n",
              "        })();\n",
              "      </script>\n",
              "    </div>\n",
              "\n",
              "    </div>\n",
              "  </div>\n"
            ],
            "application/vnd.google.colaboratory.intrinsic+json": {
              "type": "dataframe",
              "summary": "{\n  \"name\": \"display(df\",\n  \"rows\": 10,\n  \"fields\": [\n    {\n      \"column\": \"DateTime\",\n      \"properties\": {\n        \"dtype\": \"object\",\n        \"num_unique_values\": 10,\n        \"samples\": [\n          \"2015-11-01 08:00:00\",\n          \"2015-11-01 01:00:00\",\n          \"2015-11-01 05:00:00\"\n        ],\n        \"semantic_type\": \"\",\n        \"description\": \"\"\n      }\n    },\n    {\n      \"column\": \"Junction\",\n      \"properties\": {\n        \"dtype\": \"number\",\n        \"std\": 0,\n        \"min\": 1,\n        \"max\": 1,\n        \"num_unique_values\": 1,\n        \"samples\": [\n          1\n        ],\n        \"semantic_type\": \"\",\n        \"description\": \"\"\n      }\n    },\n    {\n      \"column\": \"Vehicles\",\n      \"properties\": {\n        \"dtype\": \"number\",\n        \"std\": 2,\n        \"min\": 6,\n        \"max\": 15,\n        \"num_unique_values\": 9,\n        \"samples\": [\n          11\n        ],\n        \"semantic_type\": \"\",\n        \"description\": \"\"\n      }\n    },\n    {\n      \"column\": \"ID\",\n      \"properties\": {\n        \"dtype\": \"number\",\n        \"std\": 30,\n        \"min\": 20151101001,\n        \"max\": 20151101091,\n        \"num_unique_values\": 10,\n        \"samples\": [\n          20151101081\n        ],\n        \"semantic_type\": \"\",\n        \"description\": \"\"\n      }\n    }\n  ]\n}"
            }
          },
          "metadata": {}
        }
      ]
    },
    {
      "cell_type": "code",
      "source": [
        "#A2\n",
        "missing_report = df.isna().sum().sort_values(ascending=False)\n",
        "print(\"Missing values per column:\\n\", missing_report)\n",
        "\n",
        "df_clean = df.copy()\n",
        "\n",
        "numeric_cols = df_clean.select_dtypes(include=[np.number]).columns.tolist()\n",
        "categorical_cols = df_clean.select_dtypes(exclude=[np.number]).columns.tolist()\n",
        "\n",
        "for col in numeric_cols:\n",
        "    if df_clean[col].isna().any():\n",
        "        df_clean[col] = df_clean[col].fillna(df_clean[col].median())\n",
        "\n",
        "for col in categorical_cols:\n",
        "    if df_clean[col].isna().any():\n",
        "        df_clean[col] = df_clean[col].fillna(df_clean[col].mode().iloc[0])\n",
        "\n"
      ],
      "metadata": {
        "colab": {
          "base_uri": "https://localhost:8080/"
        },
        "id": "Vz4Dgtojx9hE",
        "outputId": "dde885aa-73df-4aaf-a862-788d3c090883"
      },
      "execution_count": null,
      "outputs": [
        {
          "output_type": "stream",
          "name": "stdout",
          "text": [
            "Missing values per column:\n",
            " DateTime    0\n",
            "Junction    0\n",
            "Vehicles    0\n",
            "ID          0\n",
            "dtype: int64\n"
          ]
        }
      ]
    },
    {
      "cell_type": "code",
      "source": [
        "#A3\n",
        "candidate_dt_cols = [c for c in df_clean.columns if 'date' in c.lower() or 'time' in c.lower()]\n",
        "DATETIME_COL = candidate_dt_cols[0] if candidate_dt_cols else 'date_time'  # fallback\n",
        "\n",
        "print(\"Using datetime column:\", DATETIME_COL)\n",
        "\n",
        "# Convert to datetime\n",
        "df_clean[DATETIME_COL] = pd.to_datetime(df_clean[DATETIME_COL], errors='coerce')\n",
        "\n",
        "# Drop rows where datetime conversion failed\n",
        "df_clean = df_clean.dropna(subset=[DATETIME_COL]).reset_index(drop=True)\n",
        "\n",
        "df_clean['Hour'] = df_clean[DATETIME_COL].dt.hour\n",
        "df_clean['Day_of_Week'] = df_clean[DATETIME_COL].dt.dayofweek  # Monday=0\n",
        "df_clean['Weekend'] = (df_clean['Day_of_Week'] >= 5).astype(int)"
      ],
      "metadata": {
        "colab": {
          "base_uri": "https://localhost:8080/"
        },
        "id": "nzGZAcBOy-GD",
        "outputId": "ca6316df-116f-4d0a-cdcd-a0e9ecf3d145"
      },
      "execution_count": null,
      "outputs": [
        {
          "output_type": "stream",
          "name": "stdout",
          "text": [
            "Using datetime column: DateTime\n"
          ]
        }
      ]
    },
    {
      "cell_type": "code",
      "source": [
        "df"
      ],
      "metadata": {
        "colab": {
          "base_uri": "https://localhost:8080/",
          "height": 423
        },
        "id": "y67iS8_S0Gf_",
        "outputId": "c65a0edc-a6b3-4d65-e711-e5acb5abb135"
      },
      "execution_count": null,
      "outputs": [
        {
          "output_type": "execute_result",
          "data": {
            "text/plain": [
              "                  DateTime  Junction  Vehicles           ID\n",
              "0      2015-11-01 00:00:00         1        15  20151101001\n",
              "1      2015-11-01 01:00:00         1        13  20151101011\n",
              "2      2015-11-01 02:00:00         1        10  20151101021\n",
              "3      2015-11-01 03:00:00         1         7  20151101031\n",
              "4      2015-11-01 04:00:00         1         9  20151101041\n",
              "...                    ...       ...       ...          ...\n",
              "48115  2017-06-30 19:00:00         4        11  20170630194\n",
              "48116  2017-06-30 20:00:00         4        30  20170630204\n",
              "48117  2017-06-30 21:00:00         4        16  20170630214\n",
              "48118  2017-06-30 22:00:00         4        22  20170630224\n",
              "48119  2017-06-30 23:00:00         4        12  20170630234\n",
              "\n",
              "[48120 rows x 4 columns]"
            ],
            "text/html": [
              "\n",
              "  <div id=\"df-763275bb-8b3f-4c18-8e6e-edaa147f9d7f\" class=\"colab-df-container\">\n",
              "    <div>\n",
              "<style scoped>\n",
              "    .dataframe tbody tr th:only-of-type {\n",
              "        vertical-align: middle;\n",
              "    }\n",
              "\n",
              "    .dataframe tbody tr th {\n",
              "        vertical-align: top;\n",
              "    }\n",
              "\n",
              "    .dataframe thead th {\n",
              "        text-align: right;\n",
              "    }\n",
              "</style>\n",
              "<table border=\"1\" class=\"dataframe\">\n",
              "  <thead>\n",
              "    <tr style=\"text-align: right;\">\n",
              "      <th></th>\n",
              "      <th>DateTime</th>\n",
              "      <th>Junction</th>\n",
              "      <th>Vehicles</th>\n",
              "      <th>ID</th>\n",
              "    </tr>\n",
              "  </thead>\n",
              "  <tbody>\n",
              "    <tr>\n",
              "      <th>0</th>\n",
              "      <td>2015-11-01 00:00:00</td>\n",
              "      <td>1</td>\n",
              "      <td>15</td>\n",
              "      <td>20151101001</td>\n",
              "    </tr>\n",
              "    <tr>\n",
              "      <th>1</th>\n",
              "      <td>2015-11-01 01:00:00</td>\n",
              "      <td>1</td>\n",
              "      <td>13</td>\n",
              "      <td>20151101011</td>\n",
              "    </tr>\n",
              "    <tr>\n",
              "      <th>2</th>\n",
              "      <td>2015-11-01 02:00:00</td>\n",
              "      <td>1</td>\n",
              "      <td>10</td>\n",
              "      <td>20151101021</td>\n",
              "    </tr>\n",
              "    <tr>\n",
              "      <th>3</th>\n",
              "      <td>2015-11-01 03:00:00</td>\n",
              "      <td>1</td>\n",
              "      <td>7</td>\n",
              "      <td>20151101031</td>\n",
              "    </tr>\n",
              "    <tr>\n",
              "      <th>4</th>\n",
              "      <td>2015-11-01 04:00:00</td>\n",
              "      <td>1</td>\n",
              "      <td>9</td>\n",
              "      <td>20151101041</td>\n",
              "    </tr>\n",
              "    <tr>\n",
              "      <th>...</th>\n",
              "      <td>...</td>\n",
              "      <td>...</td>\n",
              "      <td>...</td>\n",
              "      <td>...</td>\n",
              "    </tr>\n",
              "    <tr>\n",
              "      <th>48115</th>\n",
              "      <td>2017-06-30 19:00:00</td>\n",
              "      <td>4</td>\n",
              "      <td>11</td>\n",
              "      <td>20170630194</td>\n",
              "    </tr>\n",
              "    <tr>\n",
              "      <th>48116</th>\n",
              "      <td>2017-06-30 20:00:00</td>\n",
              "      <td>4</td>\n",
              "      <td>30</td>\n",
              "      <td>20170630204</td>\n",
              "    </tr>\n",
              "    <tr>\n",
              "      <th>48117</th>\n",
              "      <td>2017-06-30 21:00:00</td>\n",
              "      <td>4</td>\n",
              "      <td>16</td>\n",
              "      <td>20170630214</td>\n",
              "    </tr>\n",
              "    <tr>\n",
              "      <th>48118</th>\n",
              "      <td>2017-06-30 22:00:00</td>\n",
              "      <td>4</td>\n",
              "      <td>22</td>\n",
              "      <td>20170630224</td>\n",
              "    </tr>\n",
              "    <tr>\n",
              "      <th>48119</th>\n",
              "      <td>2017-06-30 23:00:00</td>\n",
              "      <td>4</td>\n",
              "      <td>12</td>\n",
              "      <td>20170630234</td>\n",
              "    </tr>\n",
              "  </tbody>\n",
              "</table>\n",
              "<p>48120 rows × 4 columns</p>\n",
              "</div>\n",
              "    <div class=\"colab-df-buttons\">\n",
              "\n",
              "  <div class=\"colab-df-container\">\n",
              "    <button class=\"colab-df-convert\" onclick=\"convertToInteractive('df-763275bb-8b3f-4c18-8e6e-edaa147f9d7f')\"\n",
              "            title=\"Convert this dataframe to an interactive table.\"\n",
              "            style=\"display:none;\">\n",
              "\n",
              "  <svg xmlns=\"http://www.w3.org/2000/svg\" height=\"24px\" viewBox=\"0 -960 960 960\">\n",
              "    <path d=\"M120-120v-720h720v720H120Zm60-500h600v-160H180v160Zm220 220h160v-160H400v160Zm0 220h160v-160H400v160ZM180-400h160v-160H180v160Zm440 0h160v-160H620v160ZM180-180h160v-160H180v160Zm440 0h160v-160H620v160Z\"/>\n",
              "  </svg>\n",
              "    </button>\n",
              "\n",
              "  <style>\n",
              "    .colab-df-container {\n",
              "      display:flex;\n",
              "      gap: 12px;\n",
              "    }\n",
              "\n",
              "    .colab-df-convert {\n",
              "      background-color: #E8F0FE;\n",
              "      border: none;\n",
              "      border-radius: 50%;\n",
              "      cursor: pointer;\n",
              "      display: none;\n",
              "      fill: #1967D2;\n",
              "      height: 32px;\n",
              "      padding: 0 0 0 0;\n",
              "      width: 32px;\n",
              "    }\n",
              "\n",
              "    .colab-df-convert:hover {\n",
              "      background-color: #E2EBFA;\n",
              "      box-shadow: 0px 1px 2px rgba(60, 64, 67, 0.3), 0px 1px 3px 1px rgba(60, 64, 67, 0.15);\n",
              "      fill: #174EA6;\n",
              "    }\n",
              "\n",
              "    .colab-df-buttons div {\n",
              "      margin-bottom: 4px;\n",
              "    }\n",
              "\n",
              "    [theme=dark] .colab-df-convert {\n",
              "      background-color: #3B4455;\n",
              "      fill: #D2E3FC;\n",
              "    }\n",
              "\n",
              "    [theme=dark] .colab-df-convert:hover {\n",
              "      background-color: #434B5C;\n",
              "      box-shadow: 0px 1px 3px 1px rgba(0, 0, 0, 0.15);\n",
              "      filter: drop-shadow(0px 1px 2px rgba(0, 0, 0, 0.3));\n",
              "      fill: #FFFFFF;\n",
              "    }\n",
              "  </style>\n",
              "\n",
              "    <script>\n",
              "      const buttonEl =\n",
              "        document.querySelector('#df-763275bb-8b3f-4c18-8e6e-edaa147f9d7f button.colab-df-convert');\n",
              "      buttonEl.style.display =\n",
              "        google.colab.kernel.accessAllowed ? 'block' : 'none';\n",
              "\n",
              "      async function convertToInteractive(key) {\n",
              "        const element = document.querySelector('#df-763275bb-8b3f-4c18-8e6e-edaa147f9d7f');\n",
              "        const dataTable =\n",
              "          await google.colab.kernel.invokeFunction('convertToInteractive',\n",
              "                                                    [key], {});\n",
              "        if (!dataTable) return;\n",
              "\n",
              "        const docLinkHtml = 'Like what you see? Visit the ' +\n",
              "          '<a target=\"_blank\" href=https://colab.research.google.com/notebooks/data_table.ipynb>data table notebook</a>'\n",
              "          + ' to learn more about interactive tables.';\n",
              "        element.innerHTML = '';\n",
              "        dataTable['output_type'] = 'display_data';\n",
              "        await google.colab.output.renderOutput(dataTable, element);\n",
              "        const docLink = document.createElement('div');\n",
              "        docLink.innerHTML = docLinkHtml;\n",
              "        element.appendChild(docLink);\n",
              "      }\n",
              "    </script>\n",
              "  </div>\n",
              "\n",
              "\n",
              "    <div id=\"df-79f1d127-a5c0-4c24-9047-9b9ab447a44a\">\n",
              "      <button class=\"colab-df-quickchart\" onclick=\"quickchart('df-79f1d127-a5c0-4c24-9047-9b9ab447a44a')\"\n",
              "                title=\"Suggest charts\"\n",
              "                style=\"display:none;\">\n",
              "\n",
              "<svg xmlns=\"http://www.w3.org/2000/svg\" height=\"24px\"viewBox=\"0 0 24 24\"\n",
              "     width=\"24px\">\n",
              "    <g>\n",
              "        <path d=\"M19 3H5c-1.1 0-2 .9-2 2v14c0 1.1.9 2 2 2h14c1.1 0 2-.9 2-2V5c0-1.1-.9-2-2-2zM9 17H7v-7h2v7zm4 0h-2V7h2v10zm4 0h-2v-4h2v4z\"/>\n",
              "    </g>\n",
              "</svg>\n",
              "      </button>\n",
              "\n",
              "<style>\n",
              "  .colab-df-quickchart {\n",
              "      --bg-color: #E8F0FE;\n",
              "      --fill-color: #1967D2;\n",
              "      --hover-bg-color: #E2EBFA;\n",
              "      --hover-fill-color: #174EA6;\n",
              "      --disabled-fill-color: #AAA;\n",
              "      --disabled-bg-color: #DDD;\n",
              "  }\n",
              "\n",
              "  [theme=dark] .colab-df-quickchart {\n",
              "      --bg-color: #3B4455;\n",
              "      --fill-color: #D2E3FC;\n",
              "      --hover-bg-color: #434B5C;\n",
              "      --hover-fill-color: #FFFFFF;\n",
              "      --disabled-bg-color: #3B4455;\n",
              "      --disabled-fill-color: #666;\n",
              "  }\n",
              "\n",
              "  .colab-df-quickchart {\n",
              "    background-color: var(--bg-color);\n",
              "    border: none;\n",
              "    border-radius: 50%;\n",
              "    cursor: pointer;\n",
              "    display: none;\n",
              "    fill: var(--fill-color);\n",
              "    height: 32px;\n",
              "    padding: 0;\n",
              "    width: 32px;\n",
              "  }\n",
              "\n",
              "  .colab-df-quickchart:hover {\n",
              "    background-color: var(--hover-bg-color);\n",
              "    box-shadow: 0 1px 2px rgba(60, 64, 67, 0.3), 0 1px 3px 1px rgba(60, 64, 67, 0.15);\n",
              "    fill: var(--button-hover-fill-color);\n",
              "  }\n",
              "\n",
              "  .colab-df-quickchart-complete:disabled,\n",
              "  .colab-df-quickchart-complete:disabled:hover {\n",
              "    background-color: var(--disabled-bg-color);\n",
              "    fill: var(--disabled-fill-color);\n",
              "    box-shadow: none;\n",
              "  }\n",
              "\n",
              "  .colab-df-spinner {\n",
              "    border: 2px solid var(--fill-color);\n",
              "    border-color: transparent;\n",
              "    border-bottom-color: var(--fill-color);\n",
              "    animation:\n",
              "      spin 1s steps(1) infinite;\n",
              "  }\n",
              "\n",
              "  @keyframes spin {\n",
              "    0% {\n",
              "      border-color: transparent;\n",
              "      border-bottom-color: var(--fill-color);\n",
              "      border-left-color: var(--fill-color);\n",
              "    }\n",
              "    20% {\n",
              "      border-color: transparent;\n",
              "      border-left-color: var(--fill-color);\n",
              "      border-top-color: var(--fill-color);\n",
              "    }\n",
              "    30% {\n",
              "      border-color: transparent;\n",
              "      border-left-color: var(--fill-color);\n",
              "      border-top-color: var(--fill-color);\n",
              "      border-right-color: var(--fill-color);\n",
              "    }\n",
              "    40% {\n",
              "      border-color: transparent;\n",
              "      border-right-color: var(--fill-color);\n",
              "      border-top-color: var(--fill-color);\n",
              "    }\n",
              "    60% {\n",
              "      border-color: transparent;\n",
              "      border-right-color: var(--fill-color);\n",
              "    }\n",
              "    80% {\n",
              "      border-color: transparent;\n",
              "      border-right-color: var(--fill-color);\n",
              "      border-bottom-color: var(--fill-color);\n",
              "    }\n",
              "    90% {\n",
              "      border-color: transparent;\n",
              "      border-bottom-color: var(--fill-color);\n",
              "    }\n",
              "  }\n",
              "</style>\n",
              "\n",
              "      <script>\n",
              "        async function quickchart(key) {\n",
              "          const quickchartButtonEl =\n",
              "            document.querySelector('#' + key + ' button');\n",
              "          quickchartButtonEl.disabled = true;  // To prevent multiple clicks.\n",
              "          quickchartButtonEl.classList.add('colab-df-spinner');\n",
              "          try {\n",
              "            const charts = await google.colab.kernel.invokeFunction(\n",
              "                'suggestCharts', [key], {});\n",
              "          } catch (error) {\n",
              "            console.error('Error during call to suggestCharts:', error);\n",
              "          }\n",
              "          quickchartButtonEl.classList.remove('colab-df-spinner');\n",
              "          quickchartButtonEl.classList.add('colab-df-quickchart-complete');\n",
              "        }\n",
              "        (() => {\n",
              "          let quickchartButtonEl =\n",
              "            document.querySelector('#df-79f1d127-a5c0-4c24-9047-9b9ab447a44a button');\n",
              "          quickchartButtonEl.style.display =\n",
              "            google.colab.kernel.accessAllowed ? 'block' : 'none';\n",
              "        })();\n",
              "      </script>\n",
              "    </div>\n",
              "\n",
              "  <div id=\"id_7beb0d40-408a-44ba-a8bd-3557df06b552\">\n",
              "    <style>\n",
              "      .colab-df-generate {\n",
              "        background-color: #E8F0FE;\n",
              "        border: none;\n",
              "        border-radius: 50%;\n",
              "        cursor: pointer;\n",
              "        display: none;\n",
              "        fill: #1967D2;\n",
              "        height: 32px;\n",
              "        padding: 0 0 0 0;\n",
              "        width: 32px;\n",
              "      }\n",
              "\n",
              "      .colab-df-generate:hover {\n",
              "        background-color: #E2EBFA;\n",
              "        box-shadow: 0px 1px 2px rgba(60, 64, 67, 0.3), 0px 1px 3px 1px rgba(60, 64, 67, 0.15);\n",
              "        fill: #174EA6;\n",
              "      }\n",
              "\n",
              "      [theme=dark] .colab-df-generate {\n",
              "        background-color: #3B4455;\n",
              "        fill: #D2E3FC;\n",
              "      }\n",
              "\n",
              "      [theme=dark] .colab-df-generate:hover {\n",
              "        background-color: #434B5C;\n",
              "        box-shadow: 0px 1px 3px 1px rgba(0, 0, 0, 0.15);\n",
              "        filter: drop-shadow(0px 1px 2px rgba(0, 0, 0, 0.3));\n",
              "        fill: #FFFFFF;\n",
              "      }\n",
              "    </style>\n",
              "    <button class=\"colab-df-generate\" onclick=\"generateWithVariable('df')\"\n",
              "            title=\"Generate code using this dataframe.\"\n",
              "            style=\"display:none;\">\n",
              "\n",
              "  <svg xmlns=\"http://www.w3.org/2000/svg\" height=\"24px\"viewBox=\"0 0 24 24\"\n",
              "       width=\"24px\">\n",
              "    <path d=\"M7,19H8.4L18.45,9,17,7.55,7,17.6ZM5,21V16.75L18.45,3.32a2,2,0,0,1,2.83,0l1.4,1.43a1.91,1.91,0,0,1,.58,1.4,1.91,1.91,0,0,1-.58,1.4L9.25,21ZM18.45,9,17,7.55Zm-12,3A5.31,5.31,0,0,0,4.9,8.1,5.31,5.31,0,0,0,1,6.5,5.31,5.31,0,0,0,4.9,4.9,5.31,5.31,0,0,0,6.5,1,5.31,5.31,0,0,0,8.1,4.9,5.31,5.31,0,0,0,12,6.5,5.46,5.46,0,0,0,6.5,12Z\"/>\n",
              "  </svg>\n",
              "    </button>\n",
              "    <script>\n",
              "      (() => {\n",
              "      const buttonEl =\n",
              "        document.querySelector('#id_7beb0d40-408a-44ba-a8bd-3557df06b552 button.colab-df-generate');\n",
              "      buttonEl.style.display =\n",
              "        google.colab.kernel.accessAllowed ? 'block' : 'none';\n",
              "\n",
              "      buttonEl.onclick = () => {\n",
              "        google.colab.notebook.generateWithVariable('df');\n",
              "      }\n",
              "      })();\n",
              "    </script>\n",
              "  </div>\n",
              "\n",
              "    </div>\n",
              "  </div>\n"
            ],
            "application/vnd.google.colaboratory.intrinsic+json": {
              "type": "dataframe",
              "variable_name": "df",
              "summary": "{\n  \"name\": \"df\",\n  \"rows\": 48120,\n  \"fields\": [\n    {\n      \"column\": \"DateTime\",\n      \"properties\": {\n        \"dtype\": \"object\",\n        \"num_unique_values\": 14592,\n        \"samples\": [\n          \"2016-05-13 20:00:00\",\n          \"2016-11-03 20:00:00\",\n          \"2015-12-08 19:00:00\"\n        ],\n        \"semantic_type\": \"\",\n        \"description\": \"\"\n      }\n    },\n    {\n      \"column\": \"Junction\",\n      \"properties\": {\n        \"dtype\": \"number\",\n        \"std\": 0,\n        \"min\": 1,\n        \"max\": 4,\n        \"num_unique_values\": 4,\n        \"samples\": [\n          2,\n          4,\n          1\n        ],\n        \"semantic_type\": \"\",\n        \"description\": \"\"\n      }\n    },\n    {\n      \"column\": \"Vehicles\",\n      \"properties\": {\n        \"dtype\": \"number\",\n        \"std\": 20,\n        \"min\": 1,\n        \"max\": 180,\n        \"num_unique_values\": 141,\n        \"samples\": [\n          73,\n          99,\n          38\n        ],\n        \"semantic_type\": \"\",\n        \"description\": \"\"\n      }\n    },\n    {\n      \"column\": \"ID\",\n      \"properties\": {\n        \"dtype\": \"number\",\n        \"std\": 5944853,\n        \"min\": 20151101001,\n        \"max\": 20170630234,\n        \"num_unique_values\": 48120,\n        \"samples\": [\n          20161223082,\n          20160828203,\n          20170424063\n        ],\n        \"semantic_type\": \"\",\n        \"description\": \"\"\n      }\n    }\n  ]\n}"
            }
          },
          "metadata": {},
          "execution_count": 64
        }
      ]
    },
    {
      "cell_type": "code",
      "source": [
        "common_target_names = ['traffic_volume', 'volume', 'traffic', 'target']\n",
        "found = [c for c in df_clean.columns if c.lower() in common_target_names]\n",
        "TARGET_COL = found[0] if found else None\n",
        "\n",
        "\n",
        "if TARGET_COL is None:\n",
        "    print(\" Could not auto-detect target column. Please set TARGET_COL to the correct column name.\")\n",
        "    print(\"Available columns:\", list(df_clean.columns))\n",
        "\n",
        "TARGET_COL = 'Vehicles' # Manually setting the target column\n",
        "\n",
        "print(\"TARGET_COL:\", TARGET_COL)"
      ],
      "metadata": {
        "colab": {
          "base_uri": "https://localhost:8080/"
        },
        "id": "GZNu5LEA0HJH",
        "outputId": "d3fc5f51-2fa4-4201-c477-399c41fb9858"
      },
      "execution_count": null,
      "outputs": [
        {
          "output_type": "stream",
          "name": "stdout",
          "text": [
            " Could not auto-detect target column. Please set TARGET_COL to the correct column name.\n",
            "Available columns: ['DateTime', 'Junction', 'Vehicles', 'ID', 'Hour', 'Day_of_Week', 'Weekend']\n",
            "TARGET_COL: Vehicles\n"
          ]
        }
      ]
    },
    {
      "cell_type": "code",
      "source": [
        "\n",
        "drop_cols = {DATETIME_COL}\n",
        "if TARGET_COL is not None:\n",
        "    drop_cols.add(TARGET_COL)\n",
        "\n",
        "\n",
        "drop_cols |= {c for c in df_clean.columns if c.lower() in ['id', 'index']}\n",
        "\n",
        "X_df = df_clean.drop(columns=list(drop_cols))\n",
        "y = df_clean[TARGET_COL] if TARGET_COL is not None else None\n",
        "\n",
        "print(\"Feature columns:\", list(X_df.columns))\n",
        "print(\"Target head:\", None if y is None else y.head())"
      ],
      "metadata": {
        "colab": {
          "base_uri": "https://localhost:8080/"
        },
        "id": "naVwRsAI1Gmd",
        "outputId": "dd967368-9dfe-4549-a111-792d66bb5310"
      },
      "execution_count": null,
      "outputs": [
        {
          "output_type": "stream",
          "name": "stdout",
          "text": [
            "Feature columns: ['Junction', 'Hour', 'Day_of_Week', 'Weekend']\n",
            "Target head: 0    15\n",
            "1    13\n",
            "2    10\n",
            "3     7\n",
            "4     9\n",
            "Name: Vehicles, dtype: int64\n"
          ]
        }
      ]
    },
    {
      "cell_type": "code",
      "source": [
        "#A4\n",
        "num_cols = X_df.select_dtypes(include=[np.number]).columns.tolist()\n",
        "cat_cols = X_df.select_dtypes(exclude=[np.number]).columns.tolist()\n",
        "\n",
        "numeric_transformer = StandardScaler()\n",
        "categorical_transformer = OneHotEncoder(handle_unknown='ignore', sparse_output=False)\n",
        "\n",
        "preprocessor = ColumnTransformer(\n",
        "    transformers=[\n",
        "        (\"num\", numeric_transformer, num_cols),\n",
        "        (\"cat\", categorical_transformer, cat_cols)\n",
        "    ],\n",
        "    remainder='drop'\n",
        ")\n",
        "\n",
        "print(\"Numeric cols:\", num_cols)\n",
        "print(\"Categorical cols:\", cat_cols)"
      ],
      "metadata": {
        "colab": {
          "base_uri": "https://localhost:8080/"
        },
        "id": "EcPTCyvC1eNY",
        "outputId": "0abffbe2-3f88-4957-fa7b-6225b820573f"
      },
      "execution_count": null,
      "outputs": [
        {
          "output_type": "stream",
          "name": "stdout",
          "text": [
            "Numeric cols: ['Junction', 'Hour', 'Day_of_Week', 'Weekend']\n",
            "Categorical cols: []\n"
          ]
        }
      ]
    },
    {
      "cell_type": "markdown",
      "source": [
        "## Section B — Exploratory Data Analysis"
      ],
      "metadata": {
        "id": "ZqTkjnTILObq"
      }
    },
    {
      "cell_type": "code",
      "source": [
        "#B1\n",
        "if TARGET_COL is None:\n",
        "    raise ValueError(\"Please set TARGET_COL before running EDA.\")\n",
        "\n",
        "df_plot = df_clean[[DATETIME_COL, TARGET_COL]].set_index(DATETIME_COL).sort_index()\n",
        "try:\n",
        "    daily = df_plot.resample('D').mean(numeric_only=True)\n",
        "except Exception:\n",
        "    daily = df_plot\n",
        "plt.figure()\n",
        "daily[TARGET_COL].plot()\n",
        "plt.title(\"Traffic Volume Over Time (Daily Mean)\")\n",
        "plt.xlabel(\"Date\")\n",
        "plt.ylabel(TARGET_COL)\n",
        "plt.show()"
      ],
      "metadata": {
        "colab": {
          "base_uri": "https://localhost:8080/",
          "height": 488
        },
        "id": "o5AkNtNu1teY",
        "outputId": "84b72210-b8ca-47ee-80c8-7cc5b710bd42"
      },
      "execution_count": null,
      "outputs": [
        {
          "output_type": "display_data",
          "data": {
            "text/plain": [
              "<Figure size 640x480 with 1 Axes>"
            ],
            "image/png": "[encoded data removed]"
          },
          "metadata": {}
        }
      ]
    },
    {
      "cell_type": "code",
      "source": [
        "#B2\n",
        "fig = plt.figure()\n",
        "sns.barplot(data=df_clean, x='Hour', y=TARGET_COL, estimator=np.mean)\n",
        "plt.title(\"Average Traffic by Hour\")\n",
        "plt.show()\n",
        "\n",
        "fig = plt.figure()\n",
        "sns.barplot(data=df_clean, x='Day_of_Week', y=TARGET_COL, estimator=np.mean)\n",
        "plt.title(\"Average Traffic by Day of Week (0=Mon ... 6=Sun)\")\n",
        "plt.show()"
      ],
      "metadata": {
        "colab": {
          "base_uri": "https://localhost:8080/",
          "height": 927
        },
        "id": "HkBtw2B32UHw",
        "outputId": "f665a499-1fc2-4af8-a6f0-c4d293acc46b"
      },
      "execution_count": null,
      "outputs": [
        {
          "output_type": "display_data",
          "data": {
            "text/plain": [
              "<Figure size 640x480 with 1 Axes>"
            ],
            "image/png": "[encoded data removed]"
          },
          "metadata": {}
        },
        {
          "output_type": "display_data",
          "data": {
            "text/plain": [
              "<Figure size 640x480 with 1 Axes>"
            ],
            "image/png": "[encoded data removed]"
          },
          "metadata": {}
        }
      ]
    },
    {
      "cell_type": "markdown",
      "source": [
        "Traffic peaks up on week day and gets lower in weekend.Accroding to hours it increases after 5 o'clock.and slowly decreases after 19 o'clock."
      ],
      "metadata": {
        "id": "LofSdrP32v_O"
      }
    },
    {
      "cell_type": "markdown",
      "source": [
        "##Section c-Model Building and Evaluation\n",
        "\n"
      ],
      "metadata": {
        "id": "eZo_ztPF3i11"
      }
    },
    {
      "cell_type": "code",
      "source": [
        "#c1\n",
        "if TARGET_COL is None:\n",
        "    raise ValueError(\"Please set TARGET_COL before training.\")\n",
        "\n",
        "X_train, X_test, y_train, y_test = train_test_split(\n",
        "    X_df, y, test_size=0.2, random_state=42, shuffle=True\n",
        ")\n",
        "print(\"Train shape:\", X_train.shape, \"| Test shape:\", X_test.shape)"
      ],
      "metadata": {
        "colab": {
          "base_uri": "https://localhost:8080/"
        },
        "id": "-h_bTawH2ey6",
        "outputId": "35142731-010a-4b27-c8b4-7f4bd8deb410"
      },
      "execution_count": null,
      "outputs": [
        {
          "output_type": "stream",
          "name": "stdout",
          "text": [
            "Train shape: (38496, 4) | Test shape: (9624, 4)\n"
          ]
        }
      ]
    },
    {
      "cell_type": "code",
      "source": [
        "#c2\n",
        "from sklearn.metrics import mean_squared_error, r2_score\n",
        "import numpy as np\n",
        "\n",
        "linreg = Pipeline(steps=[\n",
        "    (\"preprocess\", preprocessor),\n",
        "    (\"model\", LinearRegression())\n",
        "])\n",
        "\n",
        "linreg.fit(X_train, y_train)\n",
        "pred_lr = linreg.predict(X_test)\n",
        "\n",
        "# Calculate RMSE properly\n",
        "mse_lr = mean_squared_error(y_test, pred_lr)\n",
        "rmse_lr = np.sqrt(mse_lr)   # convert to RMSE\n",
        "r2_lr = r2_score(y_test, pred_lr)\n",
        "\n",
        "print(f\"Linear Regression -> RMSE: {rmse_lr:.3f}, R²: {r2_lr:.3f}\")\n"
      ],
      "metadata": {
        "colab": {
          "base_uri": "https://localhost:8080/"
        },
        "id": "BBF9oypk3ybI",
        "outputId": "111e9cbd-102c-44a6-d0eb-75ca64b18762"
      },
      "execution_count": null,
      "outputs": [
        {
          "output_type": "stream",
          "name": "stdout",
          "text": [
            "Linear Regression -> RMSE: 14.990, R²: 0.449\n"
          ]
        }
      ]
    },
    {
      "cell_type": "code",
      "source": [
        "#c3\n",
        "from sklearn.metrics import mean_squared_error, r2_score\n",
        "import numpy as np\n",
        "\n",
        "rf = Pipeline(steps=[\n",
        "    (\"preprocess\", preprocessor),\n",
        "    (\"model\", RandomForestRegressor(\n",
        "        n_estimators=300, max_depth=None, random_state=42, n_jobs=-1\n",
        "    ))\n",
        "])\n",
        "\n",
        "rf.fit(X_train, y_train)\n",
        "pred_rf = rf.predict(X_test)\n",
        "\n",
        "# Calculate RMSE properly\n",
        "mse_rf = mean_squared_error(y_test, pred_rf)\n",
        "rmse_rf = np.sqrt(mse_rf)   # convert to RMSE\n",
        "r2_rf = r2_score(y_test, pred_rf)\n",
        "\n",
        "print(f\"Random Forest -> RMSE: {rmse_rf:.3f}, R²: {r2_rf:.3f}\")"
      ],
      "metadata": {
        "colab": {
          "base_uri": "https://localhost:8080/"
        },
        "id": "7-kmAXu14dRm",
        "outputId": "491bf9f5-96cf-42df-f07b-c17a98192264"
      },
      "execution_count": null,
      "outputs": [
        {
          "output_type": "stream",
          "name": "stdout",
          "text": [
            "Random Forest -> RMSE: 11.440, R²: 0.679\n"
          ]
        }
      ]
    },
    {
      "cell_type": "code",
      "source": [
        "#c4\n",
        "rows = []\n",
        "rows.append([\"Linear Regression\", rmse_lr, r2_lr])\n",
        "rows.append([\"Random Forest\", rmse_rf, r2_rf])\n",
        "results_df = pd.DataFrame(rows, columns=[\"Model\", \"RMSE\", \"R2\"]).sort_values(\"RMSE\")\n",
        "print(results_df)"
      ],
      "metadata": {
        "colab": {
          "base_uri": "https://localhost:8080/"
        },
        "id": "AG4KfhaD6Sgg",
        "outputId": "07f551d1-b0cb-4148-a6b2-2205ceef2152"
      },
      "execution_count": null,
      "outputs": [
        {
          "output_type": "stream",
          "name": "stdout",
          "text": [
            "               Model       RMSE        R2\n",
            "1      Random Forest  11.440438  0.678850\n",
            "0  Linear Regression  14.989664  0.448677\n"
          ]
        }
      ]
    },
    {
      "cell_type": "markdown",
      "source": [
        "## Section D — Code Analysis & Interpretation\n"
      ],
      "metadata": {
        "id": "tHEBFxxo6_0_"
      }
    },
    {
      "cell_type": "code",
      "source": [
        "#D1\n",
        "best_name, best_pred = \"Linear Regression\", pred_lr\n",
        "best_rmse = rmse_lr\n",
        "if rmse_rf < best_rmse:\n",
        "    best_name, best_pred, best_rmse = \"Random Forest\", pred_rf, rmse_rf\n",
        "try:\n",
        "    if rmse_xgb < best_rmse:\n",
        "        best_name, best_pred, best_rmse = \"XGBoost\", pred_xgb, rmse_xgb\n",
        "except:\n",
        "    pass\n",
        "\n",
        "print(\"Best model:\", best_name)\n",
        "\n",
        "test_with_preds = X_test.copy()\n",
        "test_with_preds[\"y_true\"] = y_test.values\n",
        "test_with_preds[\"y_pred\"] = best_pred\n",
        "\n",
        "\n",
        "if \"Hour\" not in test_with_preds.columns and \"Hour\" in df_clean.columns:\n",
        "\n",
        "    pass\n",
        "\n",
        "hourly_pred = test_with_preds.groupby(\"Hour\")[\"y_pred\"].mean().sort_values(ascending=False)\n",
        "top3_hours = hourly_pred.head(3)\n",
        "print(\"Top 3 hours (by mean predicted traffic on test set):\")\n",
        "print(top3_hours)"
      ],
      "metadata": {
        "colab": {
          "base_uri": "https://localhost:8080/"
        },
        "id": "CQnZhjLK62ZN",
        "outputId": "51aaa689-ca2b-4a65-c6b1-b6cbd6173b0e"
      },
      "execution_count": null,
      "outputs": [
        {
          "output_type": "stream",
          "name": "stdout",
          "text": [
            "Best model: Random Forest\n",
            "Top 3 hours (by mean predicted traffic on test set):\n",
            "Hour\n",
            "20    29.181994\n",
            "19    28.848913\n",
            "14    28.610199\n",
            "Name: y_pred, dtype: float64\n"
          ]
        }
      ]
    },
    {
      "cell_type": "code",
      "source": [
        "#D2\n",
        "\n",
        "result = permutation_importance(\n",
        "    rf, X_test, y_test, n_repeats=5, random_state=42, n_jobs=-1\n",
        ")\n",
        "\n",
        "# The preprocessor transforms features; we need feature names after one-hot encoding\n",
        "# Extract feature names\n",
        "def get_feature_names(preprocessor, num_cols, cat_cols):\n",
        "    feature_names = []\n",
        "    # numeric\n",
        "    feature_names += list(num_cols)\n",
        "    # categorical OHE names\n",
        "    try:\n",
        "        ohe = preprocessor.named_transformers_['cat']\n",
        "        if hasattr(ohe, 'get_feature_names_out'):\n",
        "            ohe_names = ohe.get_feature_names_out(cat_cols).tolist()\n",
        "        else:\n",
        "            ohe_names = []\n",
        "        feature_names += ohe_names\n",
        "    except Exception as e:\n",
        "        # if no categorical transformer or failure\n",
        "        feature_names += list(cat_cols)\n",
        "    return feature_names\n",
        "\n",
        "feature_names = get_feature_names(preprocessor, num_cols, cat_cols)\n",
        "importances = pd.Series(result.importances_mean, index=feature_names).sort_values(ascending=False)\n",
        "print(\"Top 10 features by permutation importance:\")\n",
        "display(importances.head(10))"
      ],
      "metadata": {
        "colab": {
          "base_uri": "https://localhost:8080/",
          "height": 227
        },
        "id": "6ydOrPI07yH-",
        "outputId": "9042d2cb-1dfa-4e1c-a3e4-29d97da43a3d"
      },
      "execution_count": null,
      "outputs": [
        {
          "output_type": "stream",
          "name": "stdout",
          "text": [
            "Top 10 features by permutation importance:\n"
          ]
        },
        {
          "output_type": "display_data",
          "data": {
            "text/plain": [
              "Junction       1.182652\n",
              "Hour           0.271490\n",
              "Day_of_Week    0.039914\n",
              "Weekend        0.023819\n",
              "dtype: float64"
            ],
            "text/html": [
              "<div>\n",
              "<style scoped>\n",
              "    .dataframe tbody tr th:only-of-type {\n",
              "        vertical-align: middle;\n",
              "    }\n",
              "\n",
              "    .dataframe tbody tr th {\n",
              "        vertical-align: top;\n",
              "    }\n",
              "\n",
              "    .dataframe thead th {\n",
              "        text-align: right;\n",
              "    }\n",
              "</style>\n",
              "<table border=\"1\" class=\"dataframe\">\n",
              "  <thead>\n",
              "    <tr style=\"text-align: right;\">\n",
              "      <th></th>\n",
              "      <th>0</th>\n",
              "    </tr>\n",
              "  </thead>\n",
              "  <tbody>\n",
              "    <tr>\n",
              "      <th>Junction</th>\n",
              "      <td>1.182652</td>\n",
              "    </tr>\n",
              "    <tr>\n",
              "      <th>Hour</th>\n",
              "      <td>0.271490</td>\n",
              "    </tr>\n",
              "    <tr>\n",
              "      <th>Day_of_Week</th>\n",
              "      <td>0.039914</td>\n",
              "    </tr>\n",
              "    <tr>\n",
              "      <th>Weekend</th>\n",
              "      <td>0.023819</td>\n",
              "    </tr>\n",
              "  </tbody>\n",
              "</table>\n",
              "</div><br><label><b>dtype:</b> float64</label>"
            ]
          },
          "metadata": {}
        }
      ]
    },
    {
      "cell_type": "code",
      "source": [
        "#D3\n",
        "test_with_preds[\"abs_error\"] = (test_with_preds[\"y_true\"] - test_with_preds[\"y_pred\"]).abs()\n",
        "worst = test_with_preds.sort_values(\"abs_error\", ascending=False).head(1)\n",
        "print(\"Most off prediction:\\n\")\n",
        "display(worst)\n"
      ],
      "metadata": {
        "colab": {
          "base_uri": "https://localhost:8080/",
          "height": 124
        },
        "id": "Vqa2OwAE76zz",
        "outputId": "dc46de19-c83a-4719-e510-dfedeea105c5"
      },
      "execution_count": null,
      "outputs": [
        {
          "output_type": "stream",
          "name": "stdout",
          "text": [
            "Most off prediction:\n",
            "\n"
          ]
        },
        {
          "output_type": "display_data",
          "data": {
            "text/plain": [
              "       Junction  Hour  Day_of_Week  Weekend  y_true     y_pred   abs_error\n",
              "40724         3    20            3        0     173  18.000942  154.999058"
            ],
            "text/html": [
              "\n",
              "  <div id=\"df-4b00322e-2176-4a77-901a-436d0b4c0b71\" class=\"colab-df-container\">\n",
              "    <div>\n",
              "<style scoped>\n",
              "    .dataframe tbody tr th:only-of-type {\n",
              "        vertical-align: middle;\n",
              "    }\n",
              "\n",
              "    .dataframe tbody tr th {\n",
              "        vertical-align: top;\n",
              "    }\n",
              "\n",
              "    .dataframe thead th {\n",
              "        text-align: right;\n",
              "    }\n",
              "</style>\n",
              "<table border=\"1\" class=\"dataframe\">\n",
              "  <thead>\n",
              "    <tr style=\"text-align: right;\">\n",
              "      <th></th>\n",
              "      <th>Junction</th>\n",
              "      <th>Hour</th>\n",
              "      <th>Day_of_Week</th>\n",
              "      <th>Weekend</th>\n",
              "      <th>y_true</th>\n",
              "      <th>y_pred</th>\n",
              "      <th>abs_error</th>\n",
              "    </tr>\n",
              "  </thead>\n",
              "  <tbody>\n",
              "    <tr>\n",
              "      <th>40724</th>\n",
              "      <td>3</td>\n",
              "      <td>20</td>\n",
              "      <td>3</td>\n",
              "      <td>0</td>\n",
              "      <td>173</td>\n",
              "      <td>18.000942</td>\n",
              "      <td>154.999058</td>\n",
              "    </tr>\n",
              "  </tbody>\n",
              "</table>\n",
              "</div>\n",
              "    <div class=\"colab-df-buttons\">\n",
              "\n",
              "  <div class=\"colab-df-container\">\n",
              "    <button class=\"colab-df-convert\" onclick=\"convertToInteractive('df-4b00322e-2176-4a77-901a-436d0b4c0b71')\"\n",
              "            title=\"Convert this dataframe to an interactive table.\"\n",
              "            style=\"display:none;\">\n",
              "\n",
              "  <svg xmlns=\"http://www.w3.org/2000/svg\" height=\"24px\" viewBox=\"0 -960 960 960\">\n",
              "    <path d=\"M120-120v-720h720v720H120Zm60-500h600v-160H180v160Zm220 220h160v-160H400v160Zm0 220h160v-160H400v160ZM180-400h160v-160H180v160Zm440 0h160v-160H620v160ZM180-180h160v-160H180v160Zm440 0h160v-160H620v160Z\"/>\n",
              "  </svg>\n",
              "    </button>\n",
              "\n",
              "  <style>\n",
              "    .colab-df-container {\n",
              "      display:flex;\n",
              "      gap: 12px;\n",
              "    }\n",
              "\n",
              "    .colab-df-convert {\n",
              "      background-color: #E8F0FE;\n",
              "      border: none;\n",
              "      border-radius: 50%;\n",
              "      cursor: pointer;\n",
              "      display: none;\n",
              "      fill: #1967D2;\n",
              "      height: 32px;\n",
              "      padding: 0 0 0 0;\n",
              "      width: 32px;\n",
              "    }\n",
              "\n",
              "    .colab-df-convert:hover {\n",
              "      background-color: #E2EBFA;\n",
              "      box-shadow: 0px 1px 2px rgba(60, 64, 67, 0.3), 0px 1px 3px 1px rgba(60, 64, 67, 0.15);\n",
              "      fill: #174EA6;\n",
              "    }\n",
              "\n",
              "    .colab-df-buttons div {\n",
              "      margin-bottom: 4px;\n",
              "    }\n",
              "\n",
              "    [theme=dark] .colab-df-convert {\n",
              "      background-color: #3B4455;\n",
              "      fill: #D2E3FC;\n",
              "    }\n",
              "\n",
              "    [theme=dark] .colab-df-convert:hover {\n",
              "      background-color: #434B5C;\n",
              "      box-shadow: 0px 1px 3px 1px rgba(0, 0, 0, 0.15);\n",
              "      filter: drop-shadow(0px 1px 2px rgba(0, 0, 0, 0.3));\n",
              "      fill: #FFFFFF;\n",
              "    }\n",
              "  </style>\n",
              "\n",
              "    <script>\n",
              "      const buttonEl =\n",
              "        document.querySelector('#df-4b00322e-2176-4a77-901a-436d0b4c0b71 button.colab-df-convert');\n",
              "      buttonEl.style.display =\n",
              "        google.colab.kernel.accessAllowed ? 'block' : 'none';\n",
              "\n",
              "      async function convertToInteractive(key) {\n",
              "        const element = document.querySelector('#df-4b00322e-2176-4a77-901a-436d0b4c0b71');\n",
              "        const dataTable =\n",
              "          await google.colab.kernel.invokeFunction('convertToInteractive',\n",
              "                                                    [key], {});\n",
              "        if (!dataTable) return;\n",
              "\n",
              "        const docLinkHtml = 'Like what you see? Visit the ' +\n",
              "          '<a target=\"_blank\" href=https://colab.research.google.com/notebooks/data_table.ipynb>data table notebook</a>'\n",
              "          + ' to learn more about interactive tables.';\n",
              "        element.innerHTML = '';\n",
              "        dataTable['output_type'] = 'display_data';\n",
              "        await google.colab.output.renderOutput(dataTable, element);\n",
              "        const docLink = document.createElement('div');\n",
              "        docLink.innerHTML = docLinkHtml;\n",
              "        element.appendChild(docLink);\n",
              "      }\n",
              "    </script>\n",
              "  </div>\n",
              "\n",
              "\n",
              "  <div id=\"id_e34fc79f-e771-4d72-8442-c03b6047421e\">\n",
              "    <style>\n",
              "      .colab-df-generate {\n",
              "        background-color: #E8F0FE;\n",
              "        border: none;\n",
              "        border-radius: 50%;\n",
              "        cursor: pointer;\n",
              "        display: none;\n",
              "        fill: #1967D2;\n",
              "        height: 32px;\n",
              "        padding: 0 0 0 0;\n",
              "        width: 32px;\n",
              "      }\n",
              "\n",
              "      .colab-df-generate:hover {\n",
              "        background-color: #E2EBFA;\n",
              "        box-shadow: 0px 1px 2px rgba(60, 64, 67, 0.3), 0px 1px 3px 1px rgba(60, 64, 67, 0.15);\n",
              "        fill: #174EA6;\n",
              "      }\n",
              "\n",
              "      [theme=dark] .colab-df-generate {\n",
              "        background-color: #3B4455;\n",
              "        fill: #D2E3FC;\n",
              "      }\n",
              "\n",
              "      [theme=dark] .colab-df-generate:hover {\n",
              "        background-color: #434B5C;\n",
              "        box-shadow: 0px 1px 3px 1px rgba(0, 0, 0, 0.15);\n",
              "        filter: drop-shadow(0px 1px 2px rgba(0, 0, 0, 0.3));\n",
              "        fill: #FFFFFF;\n",
              "      }\n",
              "    </style>\n",
              "    <button class=\"colab-df-generate\" onclick=\"generateWithVariable('worst')\"\n",
              "            title=\"Generate code using this dataframe.\"\n",
              "            style=\"display:none;\">\n",
              "\n",
              "  <svg xmlns=\"http://www.w3.org/2000/svg\" height=\"24px\"viewBox=\"0 0 24 24\"\n",
              "       width=\"24px\">\n",
              "    <path d=\"M7,19H8.4L18.45,9,17,7.55,7,17.6ZM5,21V16.75L18.45,3.32a2,2,0,0,1,2.83,0l1.4,1.43a1.91,1.91,0,0,1,.58,1.4,1.91,1.91,0,0,1-.58,1.4L9.25,21ZM18.45,9,17,7.55Zm-12,3A5.31,5.31,0,0,0,4.9,8.1,5.31,5.31,0,0,0,1,6.5,5.31,5.31,0,0,0,4.9,4.9,5.31,5.31,0,0,0,6.5,1,5.31,5.31,0,0,0,8.1,4.9,5.31,5.31,0,0,0,12,6.5,5.46,5.46,0,0,0,6.5,12Z\"/>\n",
              "  </svg>\n",
              "    </button>\n",
              "    <script>\n",
              "      (() => {\n",
              "      const buttonEl =\n",
              "        document.querySelector('#id_e34fc79f-e771-4d72-8442-c03b6047421e button.colab-df-generate');\n",
              "      buttonEl.style.display =\n",
              "        google.colab.kernel.accessAllowed ? 'block' : 'none';\n",
              "\n",
              "      buttonEl.onclick = () => {\n",
              "        google.colab.notebook.generateWithVariable('worst');\n",
              "      }\n",
              "      })();\n",
              "    </script>\n",
              "  </div>\n",
              "\n",
              "    </div>\n",
              "  </div>\n"
            ],
            "application/vnd.google.colaboratory.intrinsic+json": {
              "type": "dataframe",
              "variable_name": "worst",
              "summary": "{\n  \"name\": \"worst\",\n  \"rows\": 1,\n  \"fields\": [\n    {\n      \"column\": \"Junction\",\n      \"properties\": {\n        \"dtype\": \"number\",\n        \"std\": null,\n        \"min\": 3,\n        \"max\": 3,\n        \"num_unique_values\": 1,\n        \"samples\": [\n          3\n        ],\n        \"semantic_type\": \"\",\n        \"description\": \"\"\n      }\n    },\n    {\n      \"column\": \"Hour\",\n      \"properties\": {\n        \"dtype\": \"int32\",\n        \"num_unique_values\": 1,\n        \"samples\": [\n          20\n        ],\n        \"semantic_type\": \"\",\n        \"description\": \"\"\n      }\n    },\n    {\n      \"column\": \"Day_of_Week\",\n      \"properties\": {\n        \"dtype\": \"int32\",\n        \"num_unique_values\": 1,\n        \"samples\": [\n          3\n        ],\n        \"semantic_type\": \"\",\n        \"description\": \"\"\n      }\n    },\n    {\n      \"column\": \"Weekend\",\n      \"properties\": {\n        \"dtype\": \"number\",\n        \"std\": null,\n        \"min\": 0,\n        \"max\": 0,\n        \"num_unique_values\": 1,\n        \"samples\": [\n          0\n        ],\n        \"semantic_type\": \"\",\n        \"description\": \"\"\n      }\n    },\n    {\n      \"column\": \"y_true\",\n      \"properties\": {\n        \"dtype\": \"number\",\n        \"std\": null,\n        \"min\": 173,\n        \"max\": 173,\n        \"num_unique_values\": 1,\n        \"samples\": [\n          173\n        ],\n        \"semantic_type\": \"\",\n        \"description\": \"\"\n      }\n    },\n    {\n      \"column\": \"y_pred\",\n      \"properties\": {\n        \"dtype\": \"number\",\n        \"std\": null,\n        \"min\": 18.000942127342654,\n        \"max\": 18.000942127342654,\n        \"num_unique_values\": 1,\n        \"samples\": [\n          18.000942127342654\n        ],\n        \"semantic_type\": \"\",\n        \"description\": \"\"\n      }\n    },\n    {\n      \"column\": \"abs_error\",\n      \"properties\": {\n        \"dtype\": \"number\",\n        \"std\": null,\n        \"min\": 154.99905787265735,\n        \"max\": 154.99905787265735,\n        \"num_unique_values\": 1,\n        \"samples\": [\n          154.99905787265735\n        ],\n        \"semantic_type\": \"\",\n        \"description\": \"\"\n      }\n    }\n  ]\n}"
            }
          },
          "metadata": {}
        }
      ]
    },
    {
      "cell_type": "markdown",
      "source": [
        "One instance where the Random Forest model prediction was significantly off occurred at Index 40724, which corresponds to Junction 3, Hour 20 (8 PM) on a Wednesday. The actual traffic volume was 173, but the model predicted only about 18, resulting in an error of roughly 155 vehicles. This large error could be due to the model not capturing occasional traffic surges at that specific junction and hour. Such spikes might be caused by special events, road diversions, or localized congestion, which are not represented in the available features. Since the dataset doesn’t include event- or location-specific factors beyond basic time features, the model underestimates traffic in this rare scenario."
      ],
      "metadata": {
        "id": "UjLtuVmVAleP"
      }
    },
    {
      "cell_type": "markdown",
      "source": [
        "## Section E — Reflection & Learning"
      ],
      "metadata": {
        "id": "VSMqkYknAxZ9"
      }
    },
    {
      "cell_type": "markdown",
      "source": [
        "##E1\n",
        "The model captured the clear rush hour pattern, with higher traffic volumes during morning and evening commute times. It also learned the weekday vs weekend difference, where weekdays generally have more consistent and higher traffic compared to weekends. In addition, the model considered junction effects, recognizing that some intersections consistently handle more vehicles than others. These relationships suggest that time of day and day of week are strong predictors of traffic volume."
      ],
      "metadata": {
        "id": "a9ovY4V5BcND"
      }
    },
    {
      "cell_type": "markdown",
      "source": [
        "##E2\n",
        "From this exercise, I learned how traffic naturally fluctuates with daily routines, such as office hours and weekends. Feature importance analysis showed that Hour of the day and Day of week contributed the most, highlighting their predictive power. I also noticed that while Random Forest handled the patterns well, it sometimes failed in unusual situations (like sudden traffic drops), teaching me that models struggle with rare events or missing features. Overall, I gained a better understanding of how traffic data behaves and how machine learning models interpret and prioritize features."
      ],
      "metadata": {
        "id": "lj8kTLmWBfwR"
      }
    },
    {
      "cell_type": "markdown",
      "source": [
        "##"
      ],
      "metadata": {
        "id": "agFIi0vCBZUB"
      }
    },
    {
      "cell_type": "markdown",
      "source": [
        "##Section F — Real-World Analogy & Critical Thinking"
      ],
      "metadata": {
        "id": "sWeG03pfBxPl"
      }
    },
    {
      "cell_type": "code",
      "source": [
        "next_hour_features = {'Junction': 1, 'Hour': 8, 'Day_of_Week': 2, 'Weekend': 0} # Assuming Wednesday is day 2 and Junction is 1\n",
        "predicted_volume = rf.predict(pd.DataFrame([next_hour_features]))\n",
        "print(predicted_volume)"
      ],
      "metadata": {
        "colab": {
          "base_uri": "https://localhost:8080/"
        },
        "id": "6pEWt5LjBVPg",
        "outputId": "bc189757-d844-4bb1-ecdb-9506555a7ecd"
      },
      "execution_count": null,
      "outputs": [
        {
          "output_type": "stream",
          "name": "stdout",
          "text": [
            "[36.47359917]\n"
          ]
        }
      ]
    },
    {
      "cell_type": "markdown",
      "source": [
        "##How this helps a city traffic planner\n",
        "A forecast of traffic volume for the next hour allows city planners to make proactive decisions. For example, they could adjust traffic signal timings to reduce congestion during predicted peak periods, send public alerts about expected heavy traffic, or schedule road maintenance during low-traffic hours. Lane usage could also be managed dynamically based on predicted volumes, improving overall traffic flow and safety. Having hourly predictions helps the city act before problems occur, rather than just reacting to them.\n"
      ],
      "metadata": {
        "id": "mFiWdYm2DLFS"
      }
    },
    {
      "cell_type": "markdown",
      "source": [
        "##Critical Reflection\n",
        "Manual observations, like charts and averages, show general traffic patterns but cannot anticipate specific future events. Model predictions, in contrast, provide quantitative forecasts for a given hour, junction, and day, even capturing complex interactions between features like time, day, and junction. This is valuable because it enables data-driven proactive planning, allowing interventions to be timed and targeted more effectively than relying on static trends or averages."
      ],
      "metadata": {
        "id": "0ycbBpmtDfR7"
      }
    },
    {
      "cell_type": "markdown",
      "source": [
        "##Section G — Visualization & Insights"
      ],
      "metadata": {
        "id": "rfzIVZphDv5D"
      }
    },
    {
      "cell_type": "code",
      "source": [
        "#G1\n",
        "plt.figure()\n",
        "plt.scatter(test_with_preds[\"y_true\"], test_with_preds[\"y_pred\"], alpha=0.6)\n",
        "plt.xlabel(\"Actual\")\n",
        "plt.ylabel(\"Predicted\")\n",
        "plt.title(f\"Actual vs Predicted — {best_name}\")\n",
        "# 45-degree reference line\n",
        "lims = [\n",
        "    np.min([plt.xlim()[0], plt.ylim()[0]]),\n",
        "    np.max([plt.xlim()[1], plt.ylim()[1]]),\n",
        "]\n",
        "plt.plot(lims, lims, '--')\n",
        "plt.xlim(lims)\n",
        "plt.ylim(lims)\n",
        "plt.show()\n",
        "\n",
        "# Also plot residuals distribution\n",
        "plt.figure()\n",
        "residuals = test_with_preds[\"y_true\"] - test_with_preds[\"y_pred\"]\n",
        "plt.hist(residuals, bins=30)\n",
        "plt.title(\"Residuals Distribution\")\n",
        "plt.xlabel(\"Residual (Actual - Predicted)\")\n",
        "plt.ylabel(\"Count\")\n",
        "plt.show()"
      ],
      "metadata": {
        "colab": {
          "base_uri": "https://localhost:8080/",
          "height": 927
        },
        "id": "7Hvg_TyBB5Bo",
        "outputId": "9cda996f-4521-47fc-83f5-45bc61ca8dcb"
      },
      "execution_count": null,
      "outputs": [
        {
          "output_type": "display_data",
          "data": {
            "text/plain": [
              "<Figure size 640x480 with 1 Axes>"
            ],
            "image/png": "[encoded data removed]"
          },
          "metadata": {}
        },
        {
          "output_type": "display_data",
          "data": {
            "text/plain": [
              "<Figure size 640x480 with 1 Axes>"
            ],
            "image/png": "[encoded data removed]"
          },
          "metadata": {}
        }
      ]
    },
    {
      "cell_type": "markdown",
      "source": [],
      "metadata": {
        "id": "vvyIu07rEhfn"
      }
    },
    {
      "cell_type": "markdown",
      "source": [
        "##G2) Summarize key findings and practical suggestions\n",
        "Key Findings:\n",
        "\n",
        "Traffic shows clear rush hour peaks in the morning and evening, with lower\n",
        "\n",
        "volumes at night.\n",
        "\n",
        "Weekdays generally have higher and more consistent traffic compared to weekends.\n",
        "\n",
        "Some junctions consistently handle more traffic than others, highlighting bottlenecks.\n",
        "\n",
        "Random Forest outperformed Linear Regression, capturing non-linear patterns and interactions between features like hour, day, and junction.\n",
        "\n",
        "Practical Suggestions for City Planners:\n",
        "\n",
        "Adjust signal timings dynamically during predicted peak hours to reduce congestion.\n",
        "\n",
        "Plan road work and maintenance during low-traffic periods identified by the model.\n",
        "\n",
        "Issue public alerts or notifications when unusually high traffic is predicted.\n",
        "\n",
        "Monitor junctions with consistently high traffic, as these may need infrastructure upgrades or traffic management interventions."
      ],
      "metadata": {
        "id": "DMCgUslREIkx"
      }
    },
    {
      "cell_type": "markdown",
      "source": [
        "##Section H — Advanced Challenge"
      ],
      "metadata": {
        "id": "E2pt_El_Iffp"
      }
    },
    {
      "cell_type": "code",
      "source": [
        "import numpy as np\n",
        "from sklearn.metrics import mean_squared_error, r2_score\n",
        "import tensorflow as tf\n",
        "from tensorflow.keras import layers, models\n",
        "\n",
        "seq_df = df_clean[[DATETIME_COL, TARGET_COL]].dropna().sort_values(DATETIME_COL).reset_index(drop=True)\n",
        "seq_df = seq_df.set_index(DATETIME_COL).resample('H').mean().dropna().reset_index()\n",
        "\n",
        "values = seq_df[TARGET_COL].values.astype(float)\n",
        "WINDOW = 24\n",
        "HORIZON = 1\n",
        "\n",
        "X_seq, y_seq = [], []\n",
        "for i in range(len(values) - WINDOW - HORIZON + 1):\n",
        "    X_seq.append(values[i:i+WINDOW])\n",
        "    y_seq.append(values[i+WINDOW:i+WINDOW+HORIZON])\n",
        "X_seq, y_seq = np.array(X_seq), np.array(y_seq).squeeze()\n",
        "\n",
        "# Train/test split\n",
        "split = int(len(X_seq) * 0.8)\n",
        "X_tr, X_te = X_seq[:split], X_seq[split:]\n",
        "y_tr, y_te = y_seq[:split], y_seq[split:]\n",
        "\n",
        "# Add channel dimension\n",
        "X_tr = X_tr[..., np.newaxis]\n",
        "X_te = X_te[..., np.newaxis]\n",
        "\n",
        "# GRU model\n",
        "model = models.Sequential([\n",
        "    layers.Input(shape=(WINDOW, 1)),\n",
        "    layers.GRU(64, return_sequences=False),\n",
        "    layers.Dense(HORIZON)\n",
        "])\n",
        "model.compile(optimizer=\"adam\", loss=\"mse\")\n",
        "hist = model.fit(X_tr, y_tr, validation_split=0.2, epochs=10, batch_size=32, verbose=0)\n",
        "\n",
        "y_pred_seq = model.predict(X_te).squeeze()\n",
        "rmse_seq = np.sqrt(mean_squared_error(y_te, y_pred_seq))\n",
        "r2_seq = r2_score(y_te, y_pred_seq)\n",
        "\n",
        "print(f\"GRU sequence model -> RMSE: {rmse_seq:.3f}, R²: {r2_seq:.3f}\")\n"
      ],
      "metadata": {
        "colab": {
          "base_uri": "https://localhost:8080/"
        },
        "id": "Hgt5hbp6Icwh",
        "outputId": "a531d474-0095-47ce-cbd1-0e2c330420d2"
      },
      "execution_count": null,
      "outputs": [
        {
          "output_type": "stream",
          "name": "stdout",
          "text": [
            "\u001b[1m92/92\u001b[0m \u001b[32m━━━━━━━━━━━━━━━━━━━━\u001b[0m\u001b[37m\u001b[0m \u001b[1m1s\u001b[0m 7ms/step\n",
            "GRU sequence model -> RMSE: 3.926, R²: 0.848\n"
          ]
        }
      ]
    },
    {
      "cell_type": "code",
      "source": [],
      "metadata": {
        "id": "LEfVAUkcIxn-"
      },
      "execution_count": null,
      "outputs": []
    }
  ]
}